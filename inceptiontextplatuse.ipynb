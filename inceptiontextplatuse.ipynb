{
 "cells": [
  {
   "cell_type": "code",
   "execution_count": 11,
   "id": "ccad3b39-c9a0-43de-aa51-0c28c83e6f16",
   "metadata": {},
   "outputs": [
    {
     "name": "stdout",
     "output_type": "stream",
     "text": [
      "Error loading model: Unable to synchronously open file (file signature not found)\n"
     ]
    }
   ],
   "source": [
    "import cv2\n",
    "import tensorflow as tf\n",
    "import numpy as np\n",
    "from tensorflow.keras.applications.inception_v3 import preprocess_input\n",
    "import os\n",
    "\n",
    "# List of categories\n",
    "plat =  ['0', '1', '2', '3', '4', '5', '6', '7', '8', '9', 'A', 'B', 'C', 'D', 'E', 'F', 'G', 'H', 'I', 'J', 'K', 'L', 'M', 'N', 'O', 'P', 'Q', 'R', 'S', 'T', 'TNI', 'U', 'V', 'W', 'X', 'Y', 'Z', '~']\n",
    "\n",
    "\n",
    "\n",
    "\n",
    "file_path = \"textplat.keras\"\n",
    "\n",
    "# Check if the file exists\n",
    "if os.path.exists(file_path):\n",
    "    try:\n",
    "        model = tf.keras.models.load_model(file_path)\n",
    "        print(\"Model loaded successfully.\")\n",
    "    except OSError as e:\n",
    "        print(f\"Error loading model: {e}\")\n",
    "else:\n",
    "    print(f\"File not found: {file_path}\")\n",
    "\n",
    "\n",
    "\n",
    "# Define the image size expected by InceptionV3 (299x299)\n",
    "img_height = 299\n",
    "img_width = 299\n",
    "\n",
    "# Load and preprocess the image for prediction\n",
    "def load_image_for_prediction(img):\n",
    "    img = cv2.resize(img, (img_width, img_height))  # Resize image to 299x299\n",
    "    img = np.expand_dims(img, axis=0)  # Add batch dimension\n",
    "    img = preprocess_input(img)  # Preprocess for InceptionV3\n",
    "    return img\n",
    "\n",
    "# Predict the class of the image\n",
    "def predict_image(img):\n",
    "    img_array = load_image_for_prediction(img)\n",
    "    predictions = model.predict(img_array)\n",
    "    predicted_class = np.argmax(predictions, axis=1)\n",
    "    return predicted_class[0]  # Return the predicted class index\n",
    "\n"
   ]
  },
  {
   "cell_type": "code",
   "execution_count": null,
   "id": "c35a7511-1b03-46eb-8dbc-d90cfd11e576",
   "metadata": {},
   "outputs": [],
   "source": [
    "# Example usage\n",
    "image_path = r\"textplat\\1\\1 (1).png\"  # Image path\n",
    "\n",
    "# Load the image using OpenCV\n",
    "image = cv2.imread(image_path)\n",
    "\n",
    "# Predict the class index of the image\n",
    "predicted_class_index = predict_image(image)\n",
    "\n",
    "# Use the predicted class index to find the corresponding category in the plat list\n",
    "predicted_category = plat[predicted_class_index]\n",
    "print(f\"Predicted category: {predicted_category}\")\n"
   ]
  },
  {
   "cell_type": "code",
   "execution_count": 4,
   "id": "1e3680fa-b52d-4203-bf35-bdd577012ace",
   "metadata": {},
   "outputs": [
    {
     "name": "stdout",
     "output_type": "stream",
     "text": [
      "Current working directory: C:\\Users\\Multimatics\\plat_nomor\n"
     ]
    }
   ],
   "source": [
    "#!pip install opencv-python\n",
    "\n",
    "import os\n",
    "print(\"Current working directory:\", os.getcwd())\n",
    "#C:\\Users\\Multimatics\\plat_nomor"
   ]
  },
  {
   "cell_type": "code",
   "execution_count": null,
   "id": "dc7f684c-fae7-4cac-b36a-1d31356edc93",
   "metadata": {},
   "outputs": [],
   "source": [
    "import os\n",
    "\n",
    "image_folder = \"textplat/Z\"\n",
    "\n",
    "for filename in os.listdir(image_folder):\n",
    "    if filename.endswith(('.png', '.jpg', '.jpeg')):\n",
    "        print(\"File \" + filename)\n",
    "        image_path = os.path.join(image_folder, filename)\n",
    "        # Load the image using OpenCV\n",
    "        image = cv2.imread(image_path)\n",
    "        # Predict the class index of the image\n",
    "        predicted_class_index = predict_image(image)        \n",
    "        # Use the predicted class index to find the corresponding category in the plat list\n",
    "        predicted_category = plat[predicted_class_index]\n",
    "        print(f\"Predicted category: {predicted_category}\")\n",
    "\n"
   ]
  },
  {
   "cell_type": "code",
   "execution_count": null,
   "id": "12b6e708-8854-4c7a-a7ab-6facc62b83ba",
   "metadata": {},
   "outputs": [],
   "source": []
  },
  {
   "cell_type": "code",
   "execution_count": null,
   "id": "8afcb893-97aa-4c9e-ac2a-5a0d8b7ff4d9",
   "metadata": {},
   "outputs": [],
   "source": []
  },
  {
   "cell_type": "code",
   "execution_count": null,
   "id": "06e651eb-b1d4-4433-8d69-7670abcbdf50",
   "metadata": {},
   "outputs": [],
   "source": []
  }
 ],
 "metadata": {
  "kernelspec": {
   "display_name": "Python 3 (ipykernel)",
   "language": "python",
   "name": "python3"
  },
  "language_info": {
   "codemirror_mode": {
    "name": "ipython",
    "version": 3
   },
   "file_extension": ".py",
   "mimetype": "text/x-python",
   "name": "python",
   "nbconvert_exporter": "python",
   "pygments_lexer": "ipython3",
   "version": "3.9.19"
  }
 },
 "nbformat": 4,
 "nbformat_minor": 5
}
