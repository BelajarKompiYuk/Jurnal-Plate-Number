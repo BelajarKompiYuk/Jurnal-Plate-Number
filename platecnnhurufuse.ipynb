{
 "cells": [
  {
   "cell_type": "code",
   "execution_count": 2,
   "id": "a67ab79a-e2fe-4201-a1e5-a62c9573061b",
   "metadata": {},
   "outputs": [
    {
     "name": "stdout",
     "output_type": "stream",
     "text": [
      "1/1 [==============================] - 0s 69ms/step\n",
      "Predicted class: O\n"
     ]
    }
   ],
   "source": [
    "from tensorflow.keras.models import load_model\n",
    "from tensorflow.keras.preprocessing import image\n",
    "import numpy as np\n",
    "\n",
    "# Load the pre-trained model\n",
    "model = load_model('huruf_classifier.h5')\n",
    "plat =  [ 'A', 'B', 'C', 'D', 'E', 'F', 'G', 'H', 'I', 'J', 'K', 'L', 'M', 'N', 'O', 'P', 'Q', 'R', 'S', 'T',  'U', 'V', 'W', 'X', 'Y', 'Z']\n",
    "\n",
    "# Now you can use the model to predict new images\n",
    "img_path = r'textplat\\tensor\\huruf\\train\\O\\O (1).jpg'  # Change this to your image path\n",
    "img = image.load_img(img_path, target_size=(64, 64))  # Adjust target size according to your model's input\n",
    "img_array = image.img_to_array(img)\n",
    "img_array = np.expand_dims(img_array, axis=0)  # Add batch dimension\n",
    "img_array /= 255.0  # Normalize the image\n",
    "\n",
    "# Predict the class\n",
    "prediction = model.predict(img_array)\n",
    "predicted_class = np.argmax(prediction)\n",
    "\n",
    "plat_number = plat[predicted_class]\n",
    "print(f'Predicted class: {plat_number}')\n"
   ]
  },
  {
   "cell_type": "code",
   "execution_count": null,
   "id": "fc0f67a1-e69d-4cbf-9001-7d57905c9821",
   "metadata": {},
   "outputs": [],
   "source": []
  }
 ],
 "metadata": {
  "kernelspec": {
   "display_name": "Python 3 (ipykernel)",
   "language": "python",
   "name": "python3"
  },
  "language_info": {
   "codemirror_mode": {
    "name": "ipython",
    "version": 3
   },
   "file_extension": ".py",
   "mimetype": "text/x-python",
   "name": "python",
   "nbconvert_exporter": "python",
   "pygments_lexer": "ipython3",
   "version": "3.9.19"
  }
 },
 "nbformat": 4,
 "nbformat_minor": 5
}
