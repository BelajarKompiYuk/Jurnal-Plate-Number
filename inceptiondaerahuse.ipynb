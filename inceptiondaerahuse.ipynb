{
 "cells": [
  {
   "cell_type": "code",
   "execution_count": 23,
   "id": "ccad3b39-c9a0-43de-aa51-0c28c83e6f16",
   "metadata": {},
   "outputs": [
    {
     "name": "stdout",
     "output_type": "stream",
     "text": [
      "\u001b[1m1/1\u001b[0m \u001b[32m━━━━━━━━━━━━━━━━━━━━\u001b[0m\u001b[37m\u001b[0m \u001b[1m2s\u001b[0m 2s/step\n",
      "Predicted category: B\n"
     ]
    }
   ],
   "source": [
    "import cv2\n",
    "import tensorflow as tf\n",
    "import numpy as np\n",
    "from tensorflow.keras.applications.inception_v3 import preprocess_input\n",
    "\n",
    "# List of categories\n",
    "plat = ['AA', 'AB', 'AD', 'AE', 'AG', 'B', 'BE', 'BK', 'BM', 'D', 'DA', 'DH', 'DK', 'E', 'F', 'G', 'H', 'K', 'KB', 'KH', 'KT', 'KU', 'L', 'M', 'N', 'P', 'R', 'S', 'T', 'W']\n",
    "\n",
    "# Load the trained model\n",
    "model = tf.keras.models.load_model(\"daerah.keras\")\n",
    "\n",
    "# Define the image size expected by InceptionV3 (299x299)\n",
    "img_height = 299\n",
    "img_width = 299\n",
    "\n",
    "# Load and preprocess the image for prediction\n",
    "def load_image_for_prediction(img):\n",
    "    img = cv2.resize(img, (img_width, img_height))  # Resize image to 299x299\n",
    "    img = np.expand_dims(img, axis=0)  # Add batch dimension\n",
    "    img = preprocess_input(img)  # Preprocess for InceptionV3\n",
    "    return img\n",
    "\n",
    "# Predict the class of the image\n",
    "def predict_image(img):\n",
    "    img_array = load_image_for_prediction(img)\n",
    "    predictions = model.predict(img_array)\n",
    "    predicted_class = np.argmax(predictions, axis=1)\n",
    "    return predicted_class[0]  # Return the predicted class index\n",
    "\n",
    "# Example usage\n",
    "image_path = \"daerah/B/20240911_074313-14-1.png\"  # Image path\n",
    "\n",
    "# Load the image using OpenCV\n",
    "image = cv2.imread(image_path)\n",
    "\n",
    "# Predict the class index of the image\n",
    "predicted_class_index = predict_image(image)\n",
    "\n",
    "# Use the predicted class index to find the corresponding category in the plat list\n",
    "predicted_category = plat[predicted_class_index]\n",
    "print(f\"Predicted category: {predicted_category}\")\n"
   ]
  },
  {
   "cell_type": "code",
   "execution_count": null,
   "id": "dc7f684c-fae7-4cac-b36a-1d31356edc93",
   "metadata": {},
   "outputs": [],
   "source": []
  }
 ],
 "metadata": {
  "kernelspec": {
   "display_name": "Python 3 (ipykernel)",
   "language": "python",
   "name": "python3"
  },
  "language_info": {
   "codemirror_mode": {
    "name": "ipython",
    "version": 3
   },
   "file_extension": ".py",
   "mimetype": "text/x-python",
   "name": "python",
   "nbconvert_exporter": "python",
   "pygments_lexer": "ipython3",
   "version": "3.12.4"
  }
 },
 "nbformat": 4,
 "nbformat_minor": 5
}
