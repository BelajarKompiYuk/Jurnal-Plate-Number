{
 "cells": [
  {
   "cell_type": "code",
   "execution_count": 1,
   "id": "eda7a3ad-d165-44b1-a654-f2e3760c22f2",
   "metadata": {},
   "outputs": [
    {
     "name": "stdout",
     "output_type": "stream",
     "text": [
      "All images have been resized and saved to the output folder.\n"
     ]
    }
   ],
   "source": [
    "from PIL import Image\n",
    "import os\n",
    "\n",
    "# Path to the folder containing images\n",
    "input_folder = 'dataset_mentah/image'\n",
    "output_folder = 'dataset_mentah/resize'\n",
    "\n",
    "# Create the output folder if it doesn't exist\n",
    "if not os.path.exists(output_folder):\n",
    "    os.makedirs(output_folder)\n",
    "\n",
    "# Desired size\n",
    "size = 640\n",
    "\n",
    "# Resize images\n",
    "for filename in os.listdir(input_folder):\n",
    "    if filename.lower().endswith(('.jpg', '.jpeg', '.png')):\n",
    "        img_path = os.path.join(input_folder, filename)\n",
    "        img = Image.open(img_path)\n",
    "\n",
    "        # Calculate new size while maintaining aspect ratio\n",
    "        img.thumbnail((size, size), Image.Resampling.LANCZOS)\n",
    "\n",
    "        # Create a new image with a white background\n",
    "        new_img = Image.new('RGB', (size, size), (255, 255, 255))\n",
    "\n",
    "        # Calculate the position to paste the resized image\n",
    "        paste_x = (size - img.width) // 2\n",
    "        paste_y = (size - img.height) // 2\n",
    "\n",
    "        # Paste the resized image onto the new image with background\n",
    "        new_img.paste(img, (paste_x, paste_y))\n",
    "\n",
    "        # Save the resized image to the output folder\n",
    "        new_img.save(os.path.join(output_folder, filename))\n",
    "\n",
    "print(\"All images have been resized and saved to the output folder.\")\n"
   ]
  }
 ],
 "metadata": {
  "kernelspec": {
   "display_name": "Python 3 (ipykernel)",
   "language": "python",
   "name": "python3"
  },
  "language_info": {
   "codemirror_mode": {
    "name": "ipython",
    "version": 3
   },
   "file_extension": ".py",
   "mimetype": "text/x-python",
   "name": "python",
   "nbconvert_exporter": "python",
   "pygments_lexer": "ipython3",
   "version": "3.9.19"
  }
 },
 "nbformat": 4,
 "nbformat_minor": 5
}
