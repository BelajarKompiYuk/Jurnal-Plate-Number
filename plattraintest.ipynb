{
 "cells": [
  {
   "cell_type": "code",
   "execution_count": 1,
   "id": "a7581a40-8ca5-41b4-9515-ac937f210533",
   "metadata": {},
   "outputs": [
    {
     "name": "stdout",
     "output_type": "stream",
     "text": [
      "Files have been split and copied successfully.\n"
     ]
    }
   ],
   "source": [
    "import os\n",
    "import shutil\n",
    "import random\n",
    "\n",
    "# Base paths\n",
    "base_dir = r\"C:\\Users\\Multimatics\\plat_nomor\\textplat\"\n",
    "mentah_dir_angka = os.path.join(base_dir, \"mentah\", \"angka\")\n",
    "mentah_dir_huruf = os.path.join(base_dir, \"mentah\", \"huruf\")\n",
    "tensor_dir = os.path.join(base_dir, \"tensor\")\n",
    "\n",
    "# Function to split and copy files for each subcategory (e.g., 0-9 in angka, A-Z in huruf)\n",
    "def split_and_copy_files(source_subdir, train_subdir, test_subdir, split_ratio=0.8):\n",
    "    if not os.path.exists(source_subdir):\n",
    "        return\n",
    "    files = [f for f in os.listdir(source_subdir) if os.path.isfile(os.path.join(source_subdir, f))]\n",
    "    random.shuffle(files)\n",
    "    split_index = int(len(files) * split_ratio)\n",
    "    train_files = files[:split_index]\n",
    "    test_files = files[split_index:]\n",
    "\n",
    "    # Copy files to train and test directories\n",
    "    for file in train_files:\n",
    "        src_path = os.path.join(source_subdir, file)\n",
    "        dest_path = os.path.join(train_subdir, file)\n",
    "        try:\n",
    "            shutil.copy2(src_path, dest_path)\n",
    "        except PermissionError:\n",
    "            print(f\"Permission denied for file: {src_path}. Skipping.\")\n",
    "    \n",
    "    for file in test_files:\n",
    "        src_path = os.path.join(source_subdir, file)\n",
    "        dest_path = os.path.join(test_subdir, file)\n",
    "        try:\n",
    "            shutil.copy2(src_path, dest_path)\n",
    "        except PermissionError:\n",
    "            print(f\"Permission denied for file: {src_path}. Skipping.\")\n",
    "\n",
    "# Step 1: Delete tensor directory if it exists\n",
    "if os.path.exists(tensor_dir):\n",
    "    shutil.rmtree(tensor_dir)\n",
    "\n",
    "# Step 2: Process angka subdirectories (0-9)\n",
    "for digit in range(10):\n",
    "    digit_str = str(digit)\n",
    "    source_dir = os.path.join(mentah_dir_angka, digit_str)\n",
    "    train_dir = os.path.join(tensor_dir, \"angka\", \"train\", digit_str)\n",
    "    test_dir = os.path.join(tensor_dir, \"angka\", \"test\", digit_str)\n",
    "    os.makedirs(train_dir, exist_ok=True)\n",
    "    os.makedirs(test_dir, exist_ok=True)\n",
    "    split_and_copy_files(source_dir, train_dir, test_dir)\n",
    "\n",
    "# Step 3: Process huruf subdirectories (A-Z)\n",
    "for letter in \"~ABCDEFGHIJKLMNOPQRSTUVWXYZ\":\n",
    "    source_dir = os.path.join(mentah_dir_huruf, letter)\n",
    "    train_dir = os.path.join(tensor_dir, \"huruf\", \"train\", letter)\n",
    "    test_dir = os.path.join(tensor_dir, \"huruf\", \"test\", letter)\n",
    "    os.makedirs(train_dir, exist_ok=True)\n",
    "    os.makedirs(test_dir, exist_ok=True)\n",
    "    split_and_copy_files(source_dir, train_dir, test_dir)\n",
    "\n",
    "print(\"Files have been split and copied successfully.\")\n"
   ]
  }
 ],
 "metadata": {
  "kernelspec": {
   "display_name": "Python 3 (ipykernel)",
   "language": "python",
   "name": "python3"
  },
  "language_info": {
   "codemirror_mode": {
    "name": "ipython",
    "version": 3
   },
   "file_extension": ".py",
   "mimetype": "text/x-python",
   "name": "python",
   "nbconvert_exporter": "python",
   "pygments_lexer": "ipython3",
   "version": "3.9.20"
  }
 },
 "nbformat": 4,
 "nbformat_minor": 5
}
